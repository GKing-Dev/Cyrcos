{
 "cells": [
  {
   "cell_type": "markdown",
   "metadata": {},
   "source": [
    "# Cyrcos: Circos-ish Figures using Python\n",
    "\n",
    "Cyrcos is a very limited Python implementation of Circos-like chord graphs created via Matplotlib! See http://circos.ca for the real deal, which I have nothing to do with and is better in every way :) I made Cyrcos because I wanted to make very specific types of chord-graph figures for comparing immune repertoire datasets from differet cell subsets within a single donor. The format for input data can be either a specific set of positions to connect or you can describe the relative positions from 0.0 to 1.0 within each group for a specific member.\n",
    "\n",
    "I plan on at the very least adding some more customization for changing the relative sizes for the groups - as things currently stand each circle segment is displayed as the same length. I'll also have a more robust method of providing input via JSON and/or pandas DataFrames soon!\n",
    "\n",
    "To start things out, first import Cyrcos (or just import Cyrcos from Cyrcos to avoid repetititon):"
   ]
  },
  {
   "cell_type": "code",
   "execution_count": null,
   "metadata": {
    "collapsed": true
   },
   "outputs": [],
   "source": [
    "%matplotlib inline\n",
    "from GK_Cirqos import Cyrcos"
   ]
  },
  {
   "cell_type": "markdown",
   "metadata": {},
   "source": [
    "The simplest basic chord graph is just a few segments representing the different groups to compare; let's say we have five groups.\n",
    "To create a graph object with a specific number of groups, we can instantiate a Cyrcos object with an integer:\n",
    "<i>(If you're working in a Jupyter notebook, just use the magic %matplotlib inline command as I did above. You could also show your plots using the Show method, or save them as an image using Save ie: cyr_plot.Save(\"my_chord_figure.png\"))</i>"
   ]
  },
  {
   "cell_type": "code",
   "execution_count": null,
   "metadata": {
    "scrolled": false
   },
   "outputs": [],
   "source": [
    "cyr_plot = Cyrcos(5)\n",
    "#cyr_plot.fig.set_facecolor(\"white\") #In case notebook background color makes the graph hard to see"
   ]
  },
  {
   "cell_type": "markdown",
   "metadata": {},
   "source": [
    "This graph doesn't show much of anything yet, so let's add some paths connecting the groups!\n",
    "One method of doing this (basically by hand) is by the Cyrcos Add_Paths method, which requires at minimum a list/iterable of start and stop angles.\n",
    "\n",
    "For example, setting up four lines starting at 20°, 115°, 330°, and 160° ending at 250°, 195°, 50° and 310° repectively is demonstrated below.\n",
    "\n",
    "Note that angles are given by default in degrees, with 0° at top center and increasing clockwise."
   ]
  },
  {
   "cell_type": "code",
   "execution_count": null,
   "metadata": {},
   "outputs": [],
   "source": [
    "cyr_plot = Cyrcos(5)\n",
    "cyr_plot.Add_Paths([20, 115, 330, 160], [250, 195, 50, 310])"
   ]
  },
  {
   "cell_type": "markdown",
   "metadata": {},
   "source": [
    "You'll notice the outer circle segment colors transition from solid-shaded to transparent, which could (for example) suggest the prevalence of a member in a group; the segments can be set to completely solid during creation by Cyrcos(fade_segments = False).\n",
    "\n",
    "While simple lines may be useful for some figures, a major selling point of chord graphs is the connecting ribbons with varying end widths that quickly and clearly show the varying relationships between the members of groups. To change the previous chords to filled ribbons, Add_Paths requires two additional lists that give the ribbon start and end widths (once again, in degrees by default)."
   ]
  },
  {
   "cell_type": "code",
   "execution_count": null,
   "metadata": {},
   "outputs": [],
   "source": [
    "cyr_plot = Cyrcos(5)\n",
    "cyr_plot.Add_Paths([20, 115, 330, 160], [250, 195, 50, 310], [13, 2, 4, 15], [5, 8, 0.2, 28])"
   ]
  },
  {
   "cell_type": "markdown",
   "metadata": {},
   "source": [
    "Now things are a bit more appealing! If certain relationships are more important to highlight than others, changing the order of the paths to draw can show them off - subsequent paths are drawn on top of the previous inputs. Swapping the first and last ribbons gives the following z-order:\n",
    "\n",
    "(Note the easy text annotation with Add_Text, which takes a string and the x and y figure positions and transferring keyword arguments for text properties to matplotlib!)"
   ]
  },
  {
   "cell_type": "code",
   "execution_count": null,
   "metadata": {},
   "outputs": [],
   "source": [
    "cyr_plot = Cyrcos(5)\n",
    "cyr_plot.Add_Paths([160, 115, 330, 20], [310, 195, 50, 250], [15, 2, 4, 13], [28, 8, 0.2, 5])\n",
    "cyr_plot.Add_Text(\"Note the\\nchange in\\nz-order!\", x = 0.32, y = 0.57, color = \"white\")"
   ]
  },
  {
   "cell_type": "markdown",
   "metadata": {},
   "source": [
    "The chord color is automatically set to the color of the originating group, but this can be easily changed using the color_by argument of Add_Paths. A list of colors (any color type accepted by matplotlib) of the same length as the number of paths will color each manually, or \"end\" to use the color of the ending segment:"
   ]
  },
  {
   "cell_type": "code",
   "execution_count": null,
   "metadata": {},
   "outputs": [],
   "source": [
    "cyr_plot = Cyrcos(5)\n",
    "cyr_plot.Add_Paths([160, 115, 330, 20], [310, 195, 50, 250], [15, 2, 4, 13], [28, 8, 0.2, 5], color_by = \"end\")"
   ]
  },
  {
   "cell_type": "code",
   "execution_count": null,
   "metadata": {},
   "outputs": [],
   "source": [
    "cyr_plot = Cyrcos(5)\n",
    "cyr_plot.Add_Paths([160, 115, 330, 20], [310, 195, 50, 250], [15, 2, 4, 13], [28, 8, 0.2, 5], color_by = [\"black\", \"black\", \"red\", \"teal\"])"
   ]
  },
  {
   "cell_type": "markdown",
   "metadata": {},
   "source": [
    "Additionally, path color names can be intermixed with \"start\" or \"end\" to use the corresponding segments at will per path:"
   ]
  },
  {
   "cell_type": "code",
   "execution_count": null,
   "metadata": {},
   "outputs": [],
   "source": [
    "cyr_plot = Cyrcos(5)\n",
    "cyr_plot.Add_Paths([160, 115, 330, 20], [310, 195, 50, 250], [15, 2, 4, 13], [28, 8, 0.2, 5], color_by = [\"black\", \"start\", \"yellow\", \"end\"])"
   ]
  },
  {
   "cell_type": "markdown",
   "metadata": {},
   "source": [
    "If you prefer to have all of the group segments touching, just change the gap_size setting to 0 during creation:"
   ]
  },
  {
   "cell_type": "code",
   "execution_count": null,
   "metadata": {},
   "outputs": [],
   "source": [
    "cyr_plot = Cyrcos(5, gap_size = 0)\n",
    "cyr_plot.Add_Paths([160, 115, 330, 20], [310, 195, 50, 250], [15, 2, 4, 13], [28, 8, 0.2, 5])"
   ]
  },
  {
   "cell_type": "markdown",
   "metadata": {},
   "source": [
    "You may have noticed a potential problem with the above change, one that will be even more apparent if you decide to try out a wider gap size:"
   ]
  },
  {
   "cell_type": "code",
   "execution_count": null,
   "metadata": {},
   "outputs": [],
   "source": [
    "cyr_plot = Cyrcos(5, gap_size = 25)\n",
    "cyr_plot.Add_Paths([160, 115, 330, 20], [310, 195, 50, 250], [15, 2, 4, 13], [28, 8, 0.2, 5])"
   ]
  },
  {
   "cell_type": "markdown",
   "metadata": {},
   "source": [
    "Now the problem with Add_Paths is clearer - using fixed angles and widths for our placement of connecting paths means that a change to the order or relative size of the group segments can break the figure completely.\n",
    "\n",
    "\n",
    "Let's try out describing the members by their positions in a group instead, using Add_Paths_By_Segment! We'll add a few more ribbons for this faux dataset:"
   ]
  },
  {
   "cell_type": "code",
   "execution_count": null,
   "metadata": {},
   "outputs": [],
   "source": [
    "#First describe the start and end segments for each path, starting from 0\n",
    "starting_segments = [0, 0, 1, 4, 3, 2]\n",
    "ending_segments = [1, 2, 3, 0, 4, 1]\n",
    "#Next is the relative position of the path within a segment: 1.0 is the start of the segment, and 0.0 is the end\n",
    "start_ratio_positions = [1.0, 1.0, 0.5, 0.5, 0.2, 0.16]\n",
    "end_ratio_positions = [1.0, 0.9, 0.8, 0.3, 0.3, 0.85]\n",
    "#Finally the start and end widths \n",
    "start_thicknesses = [0.1, 0.2, 0.05, 0.1, 0.3, 0.15]\n",
    "end_thicknesses = [0.2, 0.3, 0.125, 0.2, 0.09, 0.1]\n",
    "\n",
    "group_cyrcos = Cyrcos(5)\n",
    "group_cyrcos.Add_Paths_By_Segment(starting_segments, ending_segments, start_ratio_positions, end_ratio_positions, start_thicknesses, end_thicknesses)"
   ]
  },
  {
   "cell_type": "markdown",
   "metadata": {},
   "source": [
    "By describing paths in relative terms of their locations per segment, you can much more easily change the relative sizes in the figure without breaking the relationships:"
   ]
  },
  {
   "cell_type": "code",
   "execution_count": null,
   "metadata": {},
   "outputs": [],
   "source": [
    "group_cyrcos = Cyrcos(5, gap_size = 0)\n",
    "group_cyrcos.Add_Paths_By_Segment(starting_segments, ending_segments, start_ratio_positions, end_ratio_positions, start_thicknesses, end_thicknesses)"
   ]
  },
  {
   "cell_type": "code",
   "execution_count": null,
   "metadata": {},
   "outputs": [],
   "source": [
    "group_cyrcos = Cyrcos(5, gap_size = 25)\n",
    "group_cyrcos.Add_Paths_By_Segment(starting_segments, ending_segments, start_ratio_positions, end_ratio_positions, start_thicknesses, end_thicknesses)"
   ]
  },
  {
   "cell_type": "markdown",
   "metadata": {},
   "source": [
    "Additional visual attributes for Cyrcos graphs:"
   ]
  },
  {
   "cell_type": "code",
   "execution_count": null,
   "metadata": {},
   "outputs": [],
   "source": [
    "group_cyrcos = Cyrcos(5, gap_size = 20)\n",
    "group_cyrcos.Add_Paths_By_Segment(starting_segments, ending_segments, start_ratio_positions, end_ratio_positions, start_thicknesses, end_thicknesses)\n",
    "group_cyrcos.Add_Legend(\"Groups\", shadow = True)"
   ]
  },
  {
   "cell_type": "code",
   "execution_count": null,
   "metadata": {},
   "outputs": [],
   "source": [
    "group_cyrcos = Cyrcos(5, gap_size = 20)\n",
    "group_cyrcos.Add_Paths_By_Segment(starting_segments, ending_segments, start_ratio_positions, end_ratio_positions, start_thicknesses, end_thicknesses)\n",
    "group_cyrcos.Add_Legend(\"Groups\", labels = [\"Peripheral Blood\", \"Plasmablasts\", \"Memory B Cells\", \"Bone Marrow\", \"Plasma Cells\"], shadow = True)"
   ]
  }
 ],
 "metadata": {
  "kernelspec": {
   "display_name": "Python 3",
   "language": "python",
   "name": "python3"
  },
  "language_info": {
   "codemirror_mode": {
    "name": "ipython",
    "version": 3
   },
   "file_extension": ".py",
   "mimetype": "text/x-python",
   "name": "python",
   "nbconvert_exporter": "python",
   "pygments_lexer": "ipython3",
   "version": "3.6.0"
  },
  "varInspector": {
   "cols": {
    "lenName": "20",
    "lenType": "20",
    "lenVar": "60"
   },
   "kernels_config": {
    "python": {
     "delete_cmd_postfix": "",
     "delete_cmd_prefix": "del ",
     "library": "var_list.py",
     "varRefreshCmd": "print(var_dic_list())"
    },
    "r": {
     "delete_cmd_postfix": ") ",
     "delete_cmd_prefix": "rm(",
     "library": "var_list.r",
     "varRefreshCmd": "cat(var_dic_list()) "
    }
   },
   "types_to_exclude": [
    "module",
    "function",
    "builtin_function_or_method",
    "instance",
    "_Feature"
   ],
   "window_display": false
  }
 },
 "nbformat": 4,
 "nbformat_minor": 2
}
